{
 "cells": [
  {
   "cell_type": "markdown",
   "id": "96e10775",
   "metadata": {},
   "source": [
    "\n",
    "# 🛣️ SafeRoute: Crime Risk Prediction for Kota, Rajasthan\n",
    "\n",
    "Welcome to **SafeRoute**, a beginner-friendly Machine Learning project that helps you visualise and predict high-risk zones in a city — using crime data. This version focuses on **Kota**.\n"
   ]
  },
  {
   "cell_type": "code",
   "execution_count": null,
   "id": "31006ce9",
   "metadata": {},
   "outputs": [],
   "source": [
    "\n",
    "# Step 1: Upload the CSV file (safe_route_kota_mock.csv) in the Files tab on the left in Colab\n",
    "\n",
    "import pandas as pd\n",
    "\n",
    "df = pd.read_csv(\"safe_route_kota_mock.csv\")\n",
    "df.head()\n"
   ]
  },
  {
   "cell_type": "markdown",
   "id": "0193e9ab",
   "metadata": {},
   "source": [
    "\n",
    "---\n",
    "\n",
    "## Step 2: Exploring the Data\n"
   ]
  },
  {
   "cell_type": "code",
   "execution_count": null,
   "id": "8b58763b",
   "metadata": {},
   "outputs": [],
   "source": [
    "\n",
    "df['crime_type'].value_counts().plot(kind='bar', title='Crime Type Distribution')\n",
    "df['hour'].plot(kind='hist', bins=24, title='Crime Frequency by Hour')\n"
   ]
  },
  {
   "cell_type": "markdown",
   "id": "abf18349",
   "metadata": {},
   "source": [
    "## Step 3: Visualising Risk on a Map"
   ]
  },
  {
   "cell_type": "code",
   "execution_count": null,
   "id": "337ae572",
   "metadata": {},
   "outputs": [],
   "source": [
    "\n",
    "import folium\n",
    "from folium.plugins import HeatMap\n",
    "\n",
    "m = folium.Map(location=[25.17, 75.85], zoom_start=13)\n",
    "heat_data = [[row['latitude'], row['longitude']] for index, row in df[df['risk_label'] == 'Risky'].iterrows()]\n",
    "HeatMap(heat_data).add_to(m)\n",
    "m\n"
   ]
  },
  {
   "cell_type": "markdown",
   "id": "6cf07606",
   "metadata": {},
   "source": [
    "## Step 4: ML Model — Predicting Risky Zones"
   ]
  },
  {
   "cell_type": "code",
   "execution_count": null,
   "id": "11628d37",
   "metadata": {},
   "outputs": [],
   "source": [
    "\n",
    "from sklearn.model_selection import train_test_split\n",
    "from sklearn.ensemble import RandomForestClassifier\n",
    "from sklearn.metrics import classification_report\n",
    "\n",
    "df['is_risky'] = (df['risk_label'] == 'Risky').astype(int)\n",
    "X = df[['latitude', 'longitude', 'hour']]\n",
    "y = df['is_risky']\n",
    "\n",
    "X_train, X_test, y_train, y_test = train_test_split(X, y, test_size=0.2, random_state=42)\n",
    "\n",
    "model = RandomForestClassifier()\n",
    "model.fit(X_train, y_train)\n",
    "\n",
    "y_pred = model.predict(X_test)\n",
    "print(classification_report(y_test, y_pred))\n"
   ]
  },
  {
   "cell_type": "markdown",
   "id": "3733ca23",
   "metadata": {},
   "source": [
    "## Step 5: Predicting New Locations"
   ]
  },
  {
   "cell_type": "code",
   "execution_count": null,
   "id": "a7ebc67e",
   "metadata": {},
   "outputs": [],
   "source": [
    "model.predict([[25.18, 75.87, 20]])  # [1] = risky, [0] = safe"
   ]
  }
 ],
 "metadata": {},
 "nbformat": 4,
 "nbformat_minor": 5
}
